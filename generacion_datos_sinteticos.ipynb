{
 "cells": [
  {
   "cell_type": "markdown",
   "id": "501cac2a",
   "metadata": {},
   "source": [
    "# Generación de Datos Sintéticos para Sistema NBA\n",
    "\n",
    "Este notebook genera tres bases de datos sintéticas:\n",
    "1. Base de clientes\n",
    "2. Base de productos\n",
    "3. Base de interacciones cliente-producto"
   ]
  },
  {
   "cell_type": "code",
   "execution_count": null,
   "id": "a5bf2403",
   "metadata": {},
   "outputs": [],
   "source": [
    "import numpy as np\n",
    "import pandas as pd\n",
    "from faker import Faker\n",
    "from datetime import datetime, timedelta\n",
    "import random\n",
    "\n",
    "# Configurar semilla para reproducibilidad\n",
    "np.random.seed(42)\n",
    "random.seed(42)\n",
    "fake = Faker('es_ES')"
   ]
  },
  {
   "cell_type": "markdown",
   "id": "a4d13adb",
   "metadata": {},
   "source": [
    "## 1. Generación de Base de Clientes"
   ]
  },
  {
   "cell_type": "code",
   "execution_count": null,
   "id": "d5d77868",
   "metadata": {},
   "outputs": [],
   "source": [
    "def generar_base_clientes(n_clientes=1000):\n",
    "    # Definir segmentos y canales\n",
    "    segmentos = ['Premium', 'Classic', 'Basic']\n",
    "    canales = ['Digital', 'Sucursal', 'Call Center', 'App Móvil']\n",
    "    \n",
    "    clientes = []\n",
    "    for _ in range(n_clientes):\n",
    "        # Generar edad entre 18 y 80 años\n",
    "        edad = random.randint(18, 80)\n",
    "        \n",
    "        # Asignar segmento basado en distribución\n",
    "        segmento = np.random.choice(segmentos, p=[0.2, 0.5, 0.3])\n",
    "        \n",
    "        # Generar ingresos basados en segmento\n",
    "        if segmento == 'Premium':\n",
    "            ingresos = random.randint(8000, 20000)\n",
    "        elif segmento == 'Classic':\n",
    "            ingresos = random.randint(4000, 8000)\n",
    "        else:\n",
    "            ingresos = random.randint(1000, 4000)\n",
    "        \n",
    "        # Asignar canal preferido\n",
    "        canal_preferido = random.choice(canales)\n",
    "        \n",
    "        clientes.append({\n",
    "            'id_cliente': f'CLI_{str(_+1).zfill(6)}',\n",
    "            'edad': edad,\n",
    "            'segmento': segmento,\n",
    "            'ingresos': ingresos,\n",
    "            'canal_preferido': canal_preferido\n",
    "        })\n",
    "    \n",
    "    return pd.DataFrame(clientes)\n",
    "\n",
    "# Generar base de clientes\n",
    "df_clientes = generar_base_clientes()\n",
    "print(\"Muestra de la base de clientes:\")\n",
    "display(df_clientes.head())\n",
    "print(f\"\\nTotal de clientes generados: {len(df_clientes)}\")"
   ]
  },
  {
   "cell_type": "markdown",
   "id": "d8bab870",
   "metadata": {},
   "source": [
    "## 2. Generación de Base de Productos"
   ]
  },
  {
   "cell_type": "code",
   "execution_count": null,
   "id": "cf7faace",
   "metadata": {},
   "outputs": [],
   "source": [
    "def generar_base_productos(n_productos=50):\n",
    "    # Definir categorías de productos\n",
    "    categorias = {\n",
    "        'Tarjetas de Crédito': (0.15, 0.25),\n",
    "        'Préstamos Personales': (0.08, 0.15),\n",
    "        'Inversiones': (0.03, 0.07),\n",
    "        'Seguros': (0.20, 0.35),\n",
    "        'Cuentas de Ahorro': (0.02, 0.05)\n",
    "    }\n",
    "    \n",
    "    productos = []\n",
    "    for _ in range(n_productos):\n",
    "        categoria = random.choice(list(categorias.keys()))\n",
    "        margen_min, margen_max = categorias[categoria]\n",
    "        \n",
    "        productos.append({\n",
    "            'id_producto': f'PRD_{str(_+1).zfill(4)}',\n",
    "            'categoria': categoria,\n",
    "            'margen_esperado': round(random.uniform(margen_min, margen_max), 4)\n",
    "        })\n",
    "    \n",
    "    return pd.DataFrame(productos)\n",
    "\n",
    "# Generar base de productos\n",
    "df_productos = generar_base_productos()\n",
    "print(\"Muestra de la base de productos:\")\n",
    "display(df_productos.head())\n",
    "print(f\"\\nTotal de productos generados: {len(df_productos)}\")"
   ]
  },
  {
   "cell_type": "markdown",
   "id": "9090ca98",
   "metadata": {},
   "source": [
    "## 3. Generación de Base de Interacciones"
   ]
  },
  {
   "cell_type": "code",
   "execution_count": null,
   "id": "33684ae3",
   "metadata": {},
   "outputs": [],
   "source": [
    "def generar_base_interacciones(df_clientes, df_productos, n_interacciones=5000):\n",
    "    interacciones = []\n",
    "    \n",
    "    for _ in range(n_interacciones):\n",
    "        # Seleccionar cliente y producto aleatorio\n",
    "        cliente = df_clientes.sample(1).iloc[0]\n",
    "        producto = df_productos.sample(1).iloc[0]\n",
    "        \n",
    "        # Calcular probabilidad de aceptación basada en segmento y categoría\n",
    "        prob_base = {\n",
    "            'Premium': 0.7,\n",
    "            'Classic': 0.5,\n",
    "            'Basic': 0.3\n",
    "        }[cliente['segmento']]\n",
    "        \n",
    "        # Ajustar probabilidad según el margen esperado\n",
    "        prob_ajustada = prob_base * (1 - producto['margen_esperado'])\n",
    "        \n",
    "        # Determinar si la oferta fue aceptada\n",
    "        aceptado = random.random() < prob_ajustada\n",
    "        \n",
    "        interacciones.append({\n",
    "            'id_interaccion': f'INT_{str(_+1).zfill(6)}',\n",
    "            'id_cliente': cliente['id_cliente'],\n",
    "            'id_producto': producto['id_producto'],\n",
    "            'fecha_interaccion': (datetime.now() - timedelta(days=random.randint(0, 365))).strftime('%Y-%m-%d'),\n",
    "            'canal': cliente['canal_preferido'],\n",
    "            'aceptado': aceptado\n",
    "        })\n",
    "    \n",
    "    return pd.DataFrame(interacciones)\n",
    "\n",
    "# Generar base de interacciones\n",
    "df_interacciones = generar_base_interacciones(df_clientes, df_productos)\n",
    "print(\"Muestra de la base de interacciones:\")\n",
    "display(df_interacciones.head())\n",
    "print(f\"\\nTotal de interacciones generadas: {len(df_interacciones)}\")"
   ]
  },
  {
   "cell_type": "markdown",
   "id": "02247f92",
   "metadata": {},
   "source": [
    "## 4. Análisis Básico de los Datos Generados"
   ]
  },
  {
   "cell_type": "code",
   "execution_count": null,
   "id": "cea8e4ca",
   "metadata": {},
   "outputs": [],
   "source": [
    "# Estadísticas básicas de clientes\n",
    "print(\"\\nEstadísticas de la base de clientes:\")\n",
    "print(df_clientes.describe())\n",
    "\n",
    "# Distribución de productos por categoría\n",
    "print(\"\\nDistribución de productos por categoría:\")\n",
    "print(df_productos['categoria'].value_counts())\n",
    "\n",
    "# Tasa de aceptación general\n",
    "tasa_aceptacion = df_interacciones['aceptado'].mean()\n",
    "print(f\"\\nTasa de aceptación general: {tasa_aceptacion:.2%}\")\n",
    "\n",
    "# Tasa de aceptación por segmento\n",
    "df_analisis = pd.merge(df_interacciones, df_clientes[['id_cliente', 'segmento']], on='id_cliente')\n",
    "print(\"\\nTasa de aceptación por segmento:\")\n",
    "print(df_analisis.groupby('segmento')['aceptado'].mean())"
   ]
  },
  {
   "cell_type": "markdown",
   "id": "df9cf7fc",
   "metadata": {},
   "source": [
    "## 5. Guardar los Datos Generados"
   ]
  },
  {
   "cell_type": "code",
   "execution_count": null,
   "id": "54753828",
   "metadata": {},
   "outputs": [],
   "source": [
    "df_analisis"
   ]
  },
  {
   "cell_type": "code",
   "execution_count": null,
   "id": "9f1db486",
   "metadata": {},
   "outputs": [],
   "source": [
    "# Guardar los DataFrames en archivos CSV\n",
    "df_clientes.to_csv('datos_sinteticos/clientes.csv', index=False)\n",
    "df_productos.to_csv('datos_sinteticos/productos.csv', index=False)\n",
    "df_interacciones.to_csv('datos_sinteticos/interacciones.csv', index=False)\n",
    "df_analisis.to_csv('datos_sinteticos/analisis.csv', index=False)\n",
    "print(\"Datos guardados exitosamente en la carpeta 'datos_sinteticos'\")"
   ]
  }
 ],
 "metadata": {
  "kernelspec": {
   "display_name": ".venv",
   "language": "python",
   "name": "python3"
  },
  "language_info": {
   "codemirror_mode": {
    "name": "ipython",
    "version": 3
   },
   "file_extension": ".py",
   "mimetype": "text/x-python",
   "name": "python",
   "nbconvert_exporter": "python",
   "pygments_lexer": "ipython3",
   "version": "3.11.6"
  }
 },
 "nbformat": 4,
 "nbformat_minor": 5
}
